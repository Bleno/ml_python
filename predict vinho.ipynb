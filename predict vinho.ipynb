{
 "cells": [
  {
   "cell_type": "code",
   "execution_count": 1,
   "metadata": {},
   "outputs": [],
   "source": [
    "import pandas as pd"
   ]
  },
  {
   "cell_type": "code",
   "execution_count": 2,
   "metadata": {},
   "outputs": [],
   "source": [
    "import joblib"
   ]
  },
  {
   "cell_type": "code",
   "execution_count": 3,
   "metadata": {},
   "outputs": [],
   "source": [
    "dados_prod = pd.read_csv('vinhos_prod.csv')"
   ]
  },
  {
   "cell_type": "code",
   "execution_count": 116,
   "metadata": {},
   "outputs": [
    {
     "name": "stdout",
     "output_type": "stream",
     "text": [
      "<class 'pandas.core.frame.DataFrame'>\n",
      "RangeIndex: 10 entries, 0 to 9\n",
      "Data columns (total 13 columns):\n",
      "Unnamed: 0              10 non-null int64\n",
      "type                    10 non-null object\n",
      "fixed acidity           10 non-null float64\n",
      "volatile acidity        10 non-null float64\n",
      "citric acid             10 non-null float64\n",
      "residual sugar          10 non-null float64\n",
      "chlorides               10 non-null float64\n",
      "free sulfur dioxide     10 non-null float64\n",
      "total sulfur dioxide    10 non-null float64\n",
      "density                 10 non-null float64\n",
      "pH                      10 non-null float64\n",
      "sulphates               10 non-null float64\n",
      "alcohol                 10 non-null object\n",
      "dtypes: float64(10), int64(1), object(2)\n",
      "memory usage: 1.1+ KB\n"
     ]
    }
   ],
   "source": [
    "dados_prod.info()"
   ]
  },
  {
   "cell_type": "code",
   "execution_count": 118,
   "metadata": {},
   "outputs": [],
   "source": [
    "x_columns = dados_prod.columns[1:]"
   ]
  },
  {
   "cell_type": "code",
   "execution_count": 121,
   "metadata": {},
   "outputs": [],
   "source": [
    "# vinhos_prod = dados_prod.drop(columns=['Unnamed: 0'])\n",
    "vinhos_prod = dados_prod.loc[:,x_columns]"
   ]
  },
  {
   "cell_type": "code",
   "execution_count": 120,
   "metadata": {},
   "outputs": [
    {
     "data": {
      "text/html": [
       "<div>\n",
       "<style scoped>\n",
       "    .dataframe tbody tr th:only-of-type {\n",
       "        vertical-align: middle;\n",
       "    }\n",
       "\n",
       "    .dataframe tbody tr th {\n",
       "        vertical-align: top;\n",
       "    }\n",
       "\n",
       "    .dataframe thead th {\n",
       "        text-align: right;\n",
       "    }\n",
       "</style>\n",
       "<table border=\"1\" class=\"dataframe\">\n",
       "  <thead>\n",
       "    <tr style=\"text-align: right;\">\n",
       "      <th></th>\n",
       "      <th>type</th>\n",
       "      <th>fixed acidity</th>\n",
       "      <th>volatile acidity</th>\n",
       "      <th>citric acid</th>\n",
       "      <th>residual sugar</th>\n",
       "      <th>chlorides</th>\n",
       "      <th>free sulfur dioxide</th>\n",
       "      <th>total sulfur dioxide</th>\n",
       "      <th>density</th>\n",
       "      <th>pH</th>\n",
       "      <th>sulphates</th>\n",
       "      <th>alcohol</th>\n",
       "    </tr>\n",
       "  </thead>\n",
       "  <tbody>\n",
       "    <tr>\n",
       "      <td>0</td>\n",
       "      <td>White</td>\n",
       "      <td>6.6</td>\n",
       "      <td>0.350</td>\n",
       "      <td>0.26</td>\n",
       "      <td>2.7</td>\n",
       "      <td>0.045</td>\n",
       "      <td>19.0</td>\n",
       "      <td>129.0</td>\n",
       "      <td>0.98952</td>\n",
       "      <td>3.24</td>\n",
       "      <td>0.48</td>\n",
       "      <td>13</td>\n",
       "    </tr>\n",
       "    <tr>\n",
       "      <td>1</td>\n",
       "      <td>White</td>\n",
       "      <td>6.1</td>\n",
       "      <td>0.170</td>\n",
       "      <td>0.27</td>\n",
       "      <td>1.5</td>\n",
       "      <td>0.056</td>\n",
       "      <td>45.0</td>\n",
       "      <td>135.0</td>\n",
       "      <td>0.99240</td>\n",
       "      <td>3.20</td>\n",
       "      <td>0.43</td>\n",
       "      <td>10.2</td>\n",
       "    </tr>\n",
       "    <tr>\n",
       "      <td>2</td>\n",
       "      <td>White</td>\n",
       "      <td>6.3</td>\n",
       "      <td>0.200</td>\n",
       "      <td>0.24</td>\n",
       "      <td>1.7</td>\n",
       "      <td>0.052</td>\n",
       "      <td>36.0</td>\n",
       "      <td>135.0</td>\n",
       "      <td>0.99374</td>\n",
       "      <td>3.80</td>\n",
       "      <td>0.66</td>\n",
       "      <td>10.8</td>\n",
       "    </tr>\n",
       "    <tr>\n",
       "      <td>3</td>\n",
       "      <td>White</td>\n",
       "      <td>6.6</td>\n",
       "      <td>0.220</td>\n",
       "      <td>0.23</td>\n",
       "      <td>17.3</td>\n",
       "      <td>0.047</td>\n",
       "      <td>37.0</td>\n",
       "      <td>118.0</td>\n",
       "      <td>0.99906</td>\n",
       "      <td>3.08</td>\n",
       "      <td>0.46</td>\n",
       "      <td>8.8</td>\n",
       "    </tr>\n",
       "    <tr>\n",
       "      <td>4</td>\n",
       "      <td>Red</td>\n",
       "      <td>8.1</td>\n",
       "      <td>0.730</td>\n",
       "      <td>0.00</td>\n",
       "      <td>2.5</td>\n",
       "      <td>0.081</td>\n",
       "      <td>12.0</td>\n",
       "      <td>24.0</td>\n",
       "      <td>0.99798</td>\n",
       "      <td>3.38</td>\n",
       "      <td>0.46</td>\n",
       "      <td>9.6</td>\n",
       "    </tr>\n",
       "    <tr>\n",
       "      <td>5</td>\n",
       "      <td>White</td>\n",
       "      <td>9.1</td>\n",
       "      <td>0.590</td>\n",
       "      <td>0.38</td>\n",
       "      <td>1.6</td>\n",
       "      <td>0.066</td>\n",
       "      <td>34.0</td>\n",
       "      <td>182.0</td>\n",
       "      <td>0.99680</td>\n",
       "      <td>3.23</td>\n",
       "      <td>0.38</td>\n",
       "      <td>8.5</td>\n",
       "    </tr>\n",
       "    <tr>\n",
       "      <td>6</td>\n",
       "      <td>White</td>\n",
       "      <td>6.6</td>\n",
       "      <td>0.340</td>\n",
       "      <td>0.40</td>\n",
       "      <td>8.1</td>\n",
       "      <td>0.046</td>\n",
       "      <td>68.0</td>\n",
       "      <td>170.0</td>\n",
       "      <td>0.99494</td>\n",
       "      <td>3.15</td>\n",
       "      <td>0.50</td>\n",
       "      <td>953.333.333.333.333</td>\n",
       "    </tr>\n",
       "    <tr>\n",
       "      <td>7</td>\n",
       "      <td>White</td>\n",
       "      <td>7.7</td>\n",
       "      <td>0.280</td>\n",
       "      <td>0.63</td>\n",
       "      <td>11.1</td>\n",
       "      <td>0.039</td>\n",
       "      <td>58.0</td>\n",
       "      <td>179.0</td>\n",
       "      <td>0.99790</td>\n",
       "      <td>3.08</td>\n",
       "      <td>0.44</td>\n",
       "      <td>8.8</td>\n",
       "    </tr>\n",
       "    <tr>\n",
       "      <td>8</td>\n",
       "      <td>Red</td>\n",
       "      <td>6.4</td>\n",
       "      <td>0.865</td>\n",
       "      <td>0.03</td>\n",
       "      <td>3.2</td>\n",
       "      <td>0.071</td>\n",
       "      <td>27.0</td>\n",
       "      <td>58.0</td>\n",
       "      <td>0.99500</td>\n",
       "      <td>3.61</td>\n",
       "      <td>0.49</td>\n",
       "      <td>12.7</td>\n",
       "    </tr>\n",
       "    <tr>\n",
       "      <td>9</td>\n",
       "      <td>Red</td>\n",
       "      <td>9.1</td>\n",
       "      <td>0.680</td>\n",
       "      <td>0.11</td>\n",
       "      <td>2.8</td>\n",
       "      <td>0.093</td>\n",
       "      <td>11.0</td>\n",
       "      <td>44.0</td>\n",
       "      <td>0.99888</td>\n",
       "      <td>3.31</td>\n",
       "      <td>0.55</td>\n",
       "      <td>9.5</td>\n",
       "    </tr>\n",
       "  </tbody>\n",
       "</table>\n",
       "</div>"
      ],
      "text/plain": [
       "    type  fixed acidity  volatile acidity  citric acid  residual sugar  \\\n",
       "0  White            6.6             0.350         0.26             2.7   \n",
       "1  White            6.1             0.170         0.27             1.5   \n",
       "2  White            6.3             0.200         0.24             1.7   \n",
       "3  White            6.6             0.220         0.23            17.3   \n",
       "4    Red            8.1             0.730         0.00             2.5   \n",
       "5  White            9.1             0.590         0.38             1.6   \n",
       "6  White            6.6             0.340         0.40             8.1   \n",
       "7  White            7.7             0.280         0.63            11.1   \n",
       "8    Red            6.4             0.865         0.03             3.2   \n",
       "9    Red            9.1             0.680         0.11             2.8   \n",
       "\n",
       "   chlorides  free sulfur dioxide  total sulfur dioxide  density    pH  \\\n",
       "0      0.045                 19.0                 129.0  0.98952  3.24   \n",
       "1      0.056                 45.0                 135.0  0.99240  3.20   \n",
       "2      0.052                 36.0                 135.0  0.99374  3.80   \n",
       "3      0.047                 37.0                 118.0  0.99906  3.08   \n",
       "4      0.081                 12.0                  24.0  0.99798  3.38   \n",
       "5      0.066                 34.0                 182.0  0.99680  3.23   \n",
       "6      0.046                 68.0                 170.0  0.99494  3.15   \n",
       "7      0.039                 58.0                 179.0  0.99790  3.08   \n",
       "8      0.071                 27.0                  58.0  0.99500  3.61   \n",
       "9      0.093                 11.0                  44.0  0.99888  3.31   \n",
       "\n",
       "   sulphates              alcohol  \n",
       "0       0.48                   13  \n",
       "1       0.43                 10.2  \n",
       "2       0.66                 10.8  \n",
       "3       0.46                  8.8  \n",
       "4       0.46                  9.6  \n",
       "5       0.38                  8.5  \n",
       "6       0.50  953.333.333.333.333  \n",
       "7       0.44                  8.8  \n",
       "8       0.49                 12.7  \n",
       "9       0.55                  9.5  "
      ]
     },
     "execution_count": 120,
     "metadata": {},
     "output_type": "execute_result"
    }
   ],
   "source": [
    "vinhos_prod"
   ]
  },
  {
   "cell_type": "code",
   "execution_count": 134,
   "metadata": {},
   "outputs": [],
   "source": [
    "vinhos_prod.type = [ 0 if t == 'White' else 1 for t in vinhos_prod.type]"
   ]
  },
  {
   "cell_type": "code",
   "execution_count": 135,
   "metadata": {},
   "outputs": [
    {
     "name": "stdout",
     "output_type": "stream",
     "text": [
      "<class 'pandas.core.frame.DataFrame'>\n",
      "RangeIndex: 10 entries, 0 to 9\n",
      "Data columns (total 12 columns):\n",
      "type                    10 non-null int64\n",
      "fixed acidity           10 non-null float64\n",
      "volatile acidity        10 non-null float64\n",
      "citric acid             10 non-null float64\n",
      "residual sugar          10 non-null float64\n",
      "chlorides               10 non-null float64\n",
      "free sulfur dioxide     10 non-null float64\n",
      "total sulfur dioxide    10 non-null float64\n",
      "density                 10 non-null float64\n",
      "pH                      10 non-null float64\n",
      "sulphates               10 non-null float64\n",
      "alcohol                 10 non-null object\n",
      "dtypes: float64(10), int64(1), object(1)\n",
      "memory usage: 1.1+ KB\n"
     ]
    }
   ],
   "source": [
    "vinhos_prod.info()"
   ]
  },
  {
   "cell_type": "code",
   "execution_count": 136,
   "metadata": {},
   "outputs": [],
   "source": [
    "vinhos_prod_2 = vinhos_prod.copy()"
   ]
  },
  {
   "cell_type": "code",
   "execution_count": 137,
   "metadata": {},
   "outputs": [],
   "source": [
    "def is_num(x):\n",
    "    result = False\n",
    "    try:\n",
    "        float(x)\n",
    "        result = True\n",
    "    except ValueError:\n",
    "        result = True\n",
    "    return result"
   ]
  },
  {
   "cell_type": "code",
   "execution_count": 138,
   "metadata": {},
   "outputs": [],
   "source": [
    "def to_float(x):\n",
    "    result = 0.001\n",
    "    try:\n",
    "        result = float(x)\n",
    "    except ValueError:\n",
    "        result = float(result)\n",
    "    return result"
   ]
  },
  {
   "cell_type": "code",
   "execution_count": 139,
   "metadata": {},
   "outputs": [],
   "source": [
    "vinhos_prod_2.alcohol = [to_float(x) for x in vinhos_prod_2.alcohol]"
   ]
  },
  {
   "cell_type": "code",
   "execution_count": 140,
   "metadata": {},
   "outputs": [
    {
     "name": "stdout",
     "output_type": "stream",
     "text": [
      "<class 'pandas.core.frame.DataFrame'>\n",
      "RangeIndex: 10 entries, 0 to 9\n",
      "Data columns (total 12 columns):\n",
      "type                    10 non-null int64\n",
      "fixed acidity           10 non-null float64\n",
      "volatile acidity        10 non-null float64\n",
      "citric acid             10 non-null float64\n",
      "residual sugar          10 non-null float64\n",
      "chlorides               10 non-null float64\n",
      "free sulfur dioxide     10 non-null float64\n",
      "total sulfur dioxide    10 non-null float64\n",
      "density                 10 non-null float64\n",
      "pH                      10 non-null float64\n",
      "sulphates               10 non-null float64\n",
      "alcohol                 10 non-null float64\n",
      "dtypes: float64(11), int64(1)\n",
      "memory usage: 1.1 KB\n"
     ]
    }
   ],
   "source": [
    "vinhos_prod_2.info()"
   ]
  },
  {
   "cell_type": "code",
   "execution_count": 141,
   "metadata": {},
   "outputs": [],
   "source": [
    "dict_modelo = joblib.load('wine_quality.joblib')"
   ]
  },
  {
   "cell_type": "code",
   "execution_count": 142,
   "metadata": {},
   "outputs": [],
   "source": [
    "modelo = dict_modelo['model']"
   ]
  },
  {
   "cell_type": "code",
   "execution_count": 143,
   "metadata": {},
   "outputs": [
    {
     "data": {
      "text/plain": [
       "DecisionTreeClassifier(class_weight=None, criterion='gini', max_depth=None,\n",
       "                       max_features=None, max_leaf_nodes=None,\n",
       "                       min_impurity_decrease=0.0, min_impurity_split=None,\n",
       "                       min_samples_leaf=1, min_samples_split=2,\n",
       "                       min_weight_fraction_leaf=0.0, presort=False,\n",
       "                       random_state=42, splitter='best')"
      ]
     },
     "execution_count": 143,
     "metadata": {},
     "output_type": "execute_result"
    }
   ],
   "source": [
    "modelo"
   ]
  },
  {
   "cell_type": "code",
   "execution_count": 144,
   "metadata": {},
   "outputs": [],
   "source": [
    "previsao = modelo.predict(vinhos_prod_2)"
   ]
  },
  {
   "cell_type": "code",
   "execution_count": 145,
   "metadata": {},
   "outputs": [],
   "source": [
    "vinhos_prod_3 = vinhos_prod_2.copy()"
   ]
  },
  {
   "cell_type": "code",
   "execution_count": 146,
   "metadata": {},
   "outputs": [
    {
     "data": {
      "text/plain": [
       "array([1, 1, 1, 1, 0, 0, 1, 0, 1, 1], dtype=int64)"
      ]
     },
     "execution_count": 146,
     "metadata": {},
     "output_type": "execute_result"
    }
   ],
   "source": [
    "previsao"
   ]
  },
  {
   "cell_type": "code",
   "execution_count": 147,
   "metadata": {},
   "outputs": [
    {
     "data": {
      "text/plain": [
       "10"
      ]
     },
     "execution_count": 147,
     "metadata": {},
     "output_type": "execute_result"
    }
   ],
   "source": [
    "previsao.__len__()"
   ]
  },
  {
   "cell_type": "code",
   "execution_count": null,
   "metadata": {},
   "outputs": [],
   "source": []
  },
  {
   "cell_type": "code",
   "execution_count": 148,
   "metadata": {},
   "outputs": [],
   "source": [
    "vinhos_prod_3 = vinhos_prod_3.assign(Quality=previsao)"
   ]
  },
  {
   "cell_type": "code",
   "execution_count": 149,
   "metadata": {},
   "outputs": [
    {
     "data": {
      "text/html": [
       "<div>\n",
       "<style scoped>\n",
       "    .dataframe tbody tr th:only-of-type {\n",
       "        vertical-align: middle;\n",
       "    }\n",
       "\n",
       "    .dataframe tbody tr th {\n",
       "        vertical-align: top;\n",
       "    }\n",
       "\n",
       "    .dataframe thead th {\n",
       "        text-align: right;\n",
       "    }\n",
       "</style>\n",
       "<table border=\"1\" class=\"dataframe\">\n",
       "  <thead>\n",
       "    <tr style=\"text-align: right;\">\n",
       "      <th></th>\n",
       "      <th>type</th>\n",
       "      <th>fixed acidity</th>\n",
       "      <th>volatile acidity</th>\n",
       "      <th>citric acid</th>\n",
       "      <th>residual sugar</th>\n",
       "      <th>chlorides</th>\n",
       "      <th>free sulfur dioxide</th>\n",
       "      <th>total sulfur dioxide</th>\n",
       "      <th>density</th>\n",
       "      <th>pH</th>\n",
       "      <th>sulphates</th>\n",
       "      <th>alcohol</th>\n",
       "      <th>Quality</th>\n",
       "    </tr>\n",
       "  </thead>\n",
       "  <tbody>\n",
       "    <tr>\n",
       "      <td>0</td>\n",
       "      <td>0</td>\n",
       "      <td>6.6</td>\n",
       "      <td>0.350</td>\n",
       "      <td>0.26</td>\n",
       "      <td>2.7</td>\n",
       "      <td>0.045</td>\n",
       "      <td>19.0</td>\n",
       "      <td>129.0</td>\n",
       "      <td>0.98952</td>\n",
       "      <td>3.24</td>\n",
       "      <td>0.48</td>\n",
       "      <td>13.000</td>\n",
       "      <td>1</td>\n",
       "    </tr>\n",
       "    <tr>\n",
       "      <td>1</td>\n",
       "      <td>0</td>\n",
       "      <td>6.1</td>\n",
       "      <td>0.170</td>\n",
       "      <td>0.27</td>\n",
       "      <td>1.5</td>\n",
       "      <td>0.056</td>\n",
       "      <td>45.0</td>\n",
       "      <td>135.0</td>\n",
       "      <td>0.99240</td>\n",
       "      <td>3.20</td>\n",
       "      <td>0.43</td>\n",
       "      <td>10.200</td>\n",
       "      <td>1</td>\n",
       "    </tr>\n",
       "    <tr>\n",
       "      <td>2</td>\n",
       "      <td>0</td>\n",
       "      <td>6.3</td>\n",
       "      <td>0.200</td>\n",
       "      <td>0.24</td>\n",
       "      <td>1.7</td>\n",
       "      <td>0.052</td>\n",
       "      <td>36.0</td>\n",
       "      <td>135.0</td>\n",
       "      <td>0.99374</td>\n",
       "      <td>3.80</td>\n",
       "      <td>0.66</td>\n",
       "      <td>10.800</td>\n",
       "      <td>1</td>\n",
       "    </tr>\n",
       "    <tr>\n",
       "      <td>3</td>\n",
       "      <td>0</td>\n",
       "      <td>6.6</td>\n",
       "      <td>0.220</td>\n",
       "      <td>0.23</td>\n",
       "      <td>17.3</td>\n",
       "      <td>0.047</td>\n",
       "      <td>37.0</td>\n",
       "      <td>118.0</td>\n",
       "      <td>0.99906</td>\n",
       "      <td>3.08</td>\n",
       "      <td>0.46</td>\n",
       "      <td>8.800</td>\n",
       "      <td>1</td>\n",
       "    </tr>\n",
       "    <tr>\n",
       "      <td>4</td>\n",
       "      <td>1</td>\n",
       "      <td>8.1</td>\n",
       "      <td>0.730</td>\n",
       "      <td>0.00</td>\n",
       "      <td>2.5</td>\n",
       "      <td>0.081</td>\n",
       "      <td>12.0</td>\n",
       "      <td>24.0</td>\n",
       "      <td>0.99798</td>\n",
       "      <td>3.38</td>\n",
       "      <td>0.46</td>\n",
       "      <td>9.600</td>\n",
       "      <td>0</td>\n",
       "    </tr>\n",
       "    <tr>\n",
       "      <td>5</td>\n",
       "      <td>0</td>\n",
       "      <td>9.1</td>\n",
       "      <td>0.590</td>\n",
       "      <td>0.38</td>\n",
       "      <td>1.6</td>\n",
       "      <td>0.066</td>\n",
       "      <td>34.0</td>\n",
       "      <td>182.0</td>\n",
       "      <td>0.99680</td>\n",
       "      <td>3.23</td>\n",
       "      <td>0.38</td>\n",
       "      <td>8.500</td>\n",
       "      <td>0</td>\n",
       "    </tr>\n",
       "    <tr>\n",
       "      <td>6</td>\n",
       "      <td>0</td>\n",
       "      <td>6.6</td>\n",
       "      <td>0.340</td>\n",
       "      <td>0.40</td>\n",
       "      <td>8.1</td>\n",
       "      <td>0.046</td>\n",
       "      <td>68.0</td>\n",
       "      <td>170.0</td>\n",
       "      <td>0.99494</td>\n",
       "      <td>3.15</td>\n",
       "      <td>0.50</td>\n",
       "      <td>0.001</td>\n",
       "      <td>1</td>\n",
       "    </tr>\n",
       "    <tr>\n",
       "      <td>7</td>\n",
       "      <td>0</td>\n",
       "      <td>7.7</td>\n",
       "      <td>0.280</td>\n",
       "      <td>0.63</td>\n",
       "      <td>11.1</td>\n",
       "      <td>0.039</td>\n",
       "      <td>58.0</td>\n",
       "      <td>179.0</td>\n",
       "      <td>0.99790</td>\n",
       "      <td>3.08</td>\n",
       "      <td>0.44</td>\n",
       "      <td>8.800</td>\n",
       "      <td>0</td>\n",
       "    </tr>\n",
       "    <tr>\n",
       "      <td>8</td>\n",
       "      <td>1</td>\n",
       "      <td>6.4</td>\n",
       "      <td>0.865</td>\n",
       "      <td>0.03</td>\n",
       "      <td>3.2</td>\n",
       "      <td>0.071</td>\n",
       "      <td>27.0</td>\n",
       "      <td>58.0</td>\n",
       "      <td>0.99500</td>\n",
       "      <td>3.61</td>\n",
       "      <td>0.49</td>\n",
       "      <td>12.700</td>\n",
       "      <td>1</td>\n",
       "    </tr>\n",
       "    <tr>\n",
       "      <td>9</td>\n",
       "      <td>1</td>\n",
       "      <td>9.1</td>\n",
       "      <td>0.680</td>\n",
       "      <td>0.11</td>\n",
       "      <td>2.8</td>\n",
       "      <td>0.093</td>\n",
       "      <td>11.0</td>\n",
       "      <td>44.0</td>\n",
       "      <td>0.99888</td>\n",
       "      <td>3.31</td>\n",
       "      <td>0.55</td>\n",
       "      <td>9.500</td>\n",
       "      <td>1</td>\n",
       "    </tr>\n",
       "  </tbody>\n",
       "</table>\n",
       "</div>"
      ],
      "text/plain": [
       "   type  fixed acidity  volatile acidity  citric acid  residual sugar  \\\n",
       "0     0            6.6             0.350         0.26             2.7   \n",
       "1     0            6.1             0.170         0.27             1.5   \n",
       "2     0            6.3             0.200         0.24             1.7   \n",
       "3     0            6.6             0.220         0.23            17.3   \n",
       "4     1            8.1             0.730         0.00             2.5   \n",
       "5     0            9.1             0.590         0.38             1.6   \n",
       "6     0            6.6             0.340         0.40             8.1   \n",
       "7     0            7.7             0.280         0.63            11.1   \n",
       "8     1            6.4             0.865         0.03             3.2   \n",
       "9     1            9.1             0.680         0.11             2.8   \n",
       "\n",
       "   chlorides  free sulfur dioxide  total sulfur dioxide  density    pH  \\\n",
       "0      0.045                 19.0                 129.0  0.98952  3.24   \n",
       "1      0.056                 45.0                 135.0  0.99240  3.20   \n",
       "2      0.052                 36.0                 135.0  0.99374  3.80   \n",
       "3      0.047                 37.0                 118.0  0.99906  3.08   \n",
       "4      0.081                 12.0                  24.0  0.99798  3.38   \n",
       "5      0.066                 34.0                 182.0  0.99680  3.23   \n",
       "6      0.046                 68.0                 170.0  0.99494  3.15   \n",
       "7      0.039                 58.0                 179.0  0.99790  3.08   \n",
       "8      0.071                 27.0                  58.0  0.99500  3.61   \n",
       "9      0.093                 11.0                  44.0  0.99888  3.31   \n",
       "\n",
       "   sulphates  alcohol  Quality  \n",
       "0       0.48   13.000        1  \n",
       "1       0.43   10.200        1  \n",
       "2       0.66   10.800        1  \n",
       "3       0.46    8.800        1  \n",
       "4       0.46    9.600        0  \n",
       "5       0.38    8.500        0  \n",
       "6       0.50    0.001        1  \n",
       "7       0.44    8.800        0  \n",
       "8       0.49   12.700        1  \n",
       "9       0.55    9.500        1  "
      ]
     },
     "execution_count": 149,
     "metadata": {},
     "output_type": "execute_result"
    }
   ],
   "source": [
    "vinhos_prod_3"
   ]
  },
  {
   "cell_type": "code",
   "execution_count": 107,
   "metadata": {},
   "outputs": [],
   "source": [
    "l = list(range(10))"
   ]
  },
  {
   "cell_type": "code",
   "execution_count": 108,
   "metadata": {},
   "outputs": [
    {
     "data": {
      "text/plain": [
       "[0, 1, 2, 3, 4, 5, 6, 7, 8, 9]"
      ]
     },
     "execution_count": 108,
     "metadata": {},
     "output_type": "execute_result"
    }
   ],
   "source": [
    "l"
   ]
  },
  {
   "cell_type": "code",
   "execution_count": 109,
   "metadata": {},
   "outputs": [],
   "source": [
    "values = list(vinhos_prod_2.alcohol)"
   ]
  },
  {
   "cell_type": "code",
   "execution_count": 110,
   "metadata": {},
   "outputs": [
    {
     "data": {
      "text/plain": [
       "9.1901"
      ]
     },
     "execution_count": 110,
     "metadata": {},
     "output_type": "execute_result"
    }
   ],
   "source": [
    "sum(values) / len(values)"
   ]
  },
  {
   "cell_type": "code",
   "execution_count": 151,
   "metadata": {},
   "outputs": [],
   "source": [
    "vinhos_prod_3.to_csv('vinhos_resultado.csv', index=False)"
   ]
  },
  {
   "cell_type": "code",
   "execution_count": null,
   "metadata": {},
   "outputs": [],
   "source": []
  }
 ],
 "metadata": {
  "kernelspec": {
   "display_name": "Python 3",
   "language": "python",
   "name": "python3"
  },
  "language_info": {
   "codemirror_mode": {
    "name": "ipython",
    "version": 3
   },
   "file_extension": ".py",
   "mimetype": "text/x-python",
   "name": "python",
   "nbconvert_exporter": "python",
   "pygments_lexer": "ipython3",
   "version": "3.7.4"
  }
 },
 "nbformat": 4,
 "nbformat_minor": 2
}
